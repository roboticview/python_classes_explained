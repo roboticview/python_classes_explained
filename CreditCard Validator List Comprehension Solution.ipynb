{
 "cells": [
  {
   "cell_type": "code",
   "execution_count": 1,
   "id": "a0b20bf1",
   "metadata": {},
   "outputs": [],
   "source": [
    "card1 = \"5515460934365316\" \n",
    "card2 =\"4929896355493470\" \n",
    "card3 = \"6011053711075799\" "
   ]
  },
  {
   "cell_type": "code",
   "execution_count": 2,
   "id": "5876b21e",
   "metadata": {},
   "outputs": [],
   "source": [
    "class CreditCard:\n",
    "    def __init__(self, card_number):\n",
    "        self.card_number = card_number\n",
    "        self.lenght = self.check_lenght()\n",
    "        self.cardtype = self.card_type()\n",
    "        self.valid = self.validate()\n",
    "    \n",
    "    def check_lenght(self):\n",
    "        if len(self.card_number) == 15 or len(self.card_number) == 16:\n",
    "            return True\n",
    "        else:\n",
    "            return False\n",
    "        \n",
    "    def card_type(self):\n",
    "        if self.lenght:\n",
    "            if self.card_number[0] == '4':\n",
    "                self.cardtype = 'Visa'\n",
    "            elif self.card_number[0:2] in ['51', '52', '53', '54', '55']:\n",
    "                self.cardtype = 'Mastercard'      \n",
    "            elif self.card_number[0:2] in ['34', '37']:\n",
    "                self.cardtype = 'Amex'\n",
    "            elif self.card_number[0:2] == '60':\n",
    "                self.cardtype = 'Discover'  \n",
    "            else:\n",
    "                self.cardtype = 'Invalid Card number'\n",
    "        else:\n",
    "            self.cardtype = 'Invalid Card number'\n",
    "            \n",
    "    def validate(self):\n",
    "        doubled = [ int(i)*2 for i in self.card_number[-2::-2] ]\n",
    "        single = [int(i) for i in self.card_number[-1::-2]]\n",
    "\n",
    "        splitted = []\n",
    "        for number in doubled:\n",
    "            if number > 9:\n",
    "                a,b = divmod(number,10)\n",
    "                splitted.extend([a,b])\n",
    "            else:\n",
    "                splitted.append(number)\n",
    "\n",
    "        sum_splitted = sum(splitted)\n",
    "        sum_left_digits = sum(single)\n",
    "        result = (sum_splitted + sum_left_digits) % 10\n",
    "        if result == 0:\n",
    "            return True\n",
    "        else:\n",
    "            return False\n",
    "    \n",
    "    "
   ]
  },
  {
   "cell_type": "code",
   "execution_count": 4,
   "id": "9b62ecb0",
   "metadata": {},
   "outputs": [
    {
     "data": {
      "text/plain": [
       "True"
      ]
     },
     "execution_count": 4,
     "metadata": {},
     "output_type": "execute_result"
    }
   ],
   "source": [
    "c1 = CreditCard(card1)\n",
    "c1.valid"
   ]
  },
  {
   "cell_type": "code",
   "execution_count": 5,
   "id": "63723cdf",
   "metadata": {},
   "outputs": [
    {
     "data": {
      "text/plain": [
       "True"
      ]
     },
     "execution_count": 5,
     "metadata": {},
     "output_type": "execute_result"
    }
   ],
   "source": [
    "c2 = CreditCard(card2)\n",
    "c2.valid"
   ]
  },
  {
   "cell_type": "code",
   "execution_count": 6,
   "id": "3e6574ee",
   "metadata": {},
   "outputs": [
    {
     "data": {
      "text/plain": [
       "True"
      ]
     },
     "execution_count": 6,
     "metadata": {},
     "output_type": "execute_result"
    }
   ],
   "source": [
    "c3 = CreditCard(card3)\n",
    "c3.valid"
   ]
  },
  {
   "cell_type": "code",
   "execution_count": null,
   "id": "f23f1e40",
   "metadata": {},
   "outputs": [],
   "source": []
  }
 ],
 "metadata": {
  "kernelspec": {
   "display_name": "Python 3 (ipykernel)",
   "language": "python",
   "name": "python3"
  },
  "language_info": {
   "codemirror_mode": {
    "name": "ipython",
    "version": 3
   },
   "file_extension": ".py",
   "mimetype": "text/x-python",
   "name": "python",
   "nbconvert_exporter": "python",
   "pygments_lexer": "ipython3",
   "version": "3.10.9"
  }
 },
 "nbformat": 4,
 "nbformat_minor": 5
}
